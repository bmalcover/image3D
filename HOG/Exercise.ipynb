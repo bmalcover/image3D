{
 "cells": [
  {
   "cell_type": "code",
   "execution_count": null,
   "metadata": {},
   "outputs": [],
   "source": [
    "import cv2\n",
    "import numpy as np\n",
    "import matplotlib.pyplot as plt"
   ]
  },
  {
   "cell_type": "markdown",
   "metadata": {},
   "source": [
    "# HOG\n",
    "\n",
    "We are going to work with Histogram of Oriented Gradients (HOG) feature descriptor from Dalal and Triggs. The main purpose of this exercise is to discover the insights of this technique.\n",
    "\n",
    "In the folder called `data` you will find 4 basic images: vertical and horizontal blocks, square and a circle.\n",
    "\n",
    "We will follow next steps:\n",
    "1. Load an image.\n",
    "2. Calculate the gradient on both axis and visualize the results.\n",
    "3. Calculate two images: one with the magnitude and another with direction of the gradient.\n",
    "4. Transform the two images to an histogram of 9 bins `[0, 20, 40, 60, 80, 100, 120, 140, 160]`\n",
    "6. Visualize the histogram and save it.\n",
    "\n",
    "You have to compare the results you obtained with the different ROIs of the basic images, save each histogram as a figure."
   ]
  },
  {
   "cell_type": "markdown",
   "metadata": {},
   "source": [
    "## Steps\n",
    "\n",
    "### 1\n",
    "\n",
    "Load an image and visualize it.\n"
   ]
  },
  {
   "cell_type": "code",
   "execution_count": null,
   "metadata": {},
   "outputs": [],
   "source": [
    "# TODO"
   ]
  },
  {
   "cell_type": "markdown",
   "metadata": {},
   "source": [
    "###  2. \n",
    "\n",
    "To calculate the gradient on both axis we can use the **Sobel Operator**. It uses two 3×3 kernels which are convolved with the original image to calculate approximations of the derivatives – one for horizontal changes, and one for vertical. See [Formulation](https://en.wikipedia.org/wiki/Sobel_operator) section for more details.\n",
    "\n",
    "To visualize the results you can use the `convertScaleAbs` function of `cv2` that scales, calculates absolute values, and converts the result to 8-bit. \n"
   ]
  },
  {
   "cell_type": "code",
   "execution_count": null,
   "metadata": {},
   "outputs": [],
   "source": [
    "# TODO\n",
    "\n",
    "## gx and gy are the gradient images on both directions\n",
    "grad_x = cv2.convertScaleAbs(gx);\n",
    "grad_y = cv2.convertScaleAbs(gy);\n",
    "\n",
    "fig, (ax1, ax2) = plt.subplots(1, 2)\n",
    "ax1.imshow(grad_y); # vertical gradient image\n",
    "ax2.imshow(grad_x); # horizontal gradient image\n"
   ]
  },
  {
   "cell_type": "markdown",
   "metadata": {},
   "source": [
    "### 3.\n",
    "\n",
    "Calculate the direction and magnitude of the gradient by using `cartToPolar` function of `cv2` library, it  calculates the magnitude and angle of 2D vectors. \n",
    "\n",
    "\n",
    "**Note**: It is easier to work with angles in degrees.\n",
    "\n"
   ]
  },
  {
   "cell_type": "code",
   "execution_count": null,
   "metadata": {},
   "outputs": [],
   "source": [
    "# TODO"
   ]
  },
  {
   "cell_type": "markdown",
   "metadata": {},
   "source": [
    "### 4\n",
    "\n",
    "Construct a 9-bin histogram using the results of the previous steps"
   ]
  },
  {
   "cell_type": "code",
   "execution_count": null,
   "metadata": {},
   "outputs": [],
   "source": [
    "hist = np.zeros((9))\n",
    "\n",
    "# TODO: histogram construction\n",
    "\n",
    "# Visualization         \n",
    "\n",
    "\n",
    "labels = np.asarray([i for i in range(0, 180, 20)])\n",
    "\n",
    "fig, ax = plt.subplots(figsize = (6,4))\n",
    "ax.bar(range(0,9), hist);\n",
    "ax.set_xticks(np.asarray(range(0,9)));\n",
    "ax.set_xticklabels(labels);\n",
    "plt.title(\"HOG\");\n"
   ]
  },
  {
   "cell_type": "markdown",
   "metadata": {},
   "source": [
    "### 5\n",
    "\n",
    "Save the histogram"
   ]
  },
  {
   "cell_type": "code",
   "execution_count": 6,
   "metadata": {},
   "outputs": [],
   "source": [
    "# TODO"
   ]
  },
  {
   "cell_type": "markdown",
   "metadata": {},
   "source": [
    "## More work!\n",
    "\n",
    "Try the example of the HoG descriptor of the Scikit-image library using  the images of this exercise: [link](https://scikit-image.org/docs/dev/auto_examples/features_detection/plot_hog.html)"
   ]
  }
 ],
 "metadata": {
  "kernelspec": {
   "display_name": "Python 3 (ipykernel)",
   "language": "python",
   "name": "python3"
  },
  "language_info": {
   "codemirror_mode": {
    "name": "ipython",
    "version": 3
   },
   "file_extension": ".py",
   "mimetype": "text/x-python",
   "name": "python",
   "nbconvert_exporter": "python",
   "pygments_lexer": "ipython3",
   "version": "3.7.3"
  }
 },
 "nbformat": 4,
 "nbformat_minor": 1
}
