{
 "cells": [
  {
   "cell_type": "code",
   "execution_count": null,
   "metadata": {
    "pycharm": {
     "name": "#%%\n"
    }
   },
   "outputs": [],
   "source": [
    "import cv2\n",
    "import matplotlib.pyplot as plt\n",
    "import numpy as np"
   ]
  },
  {
   "cell_type": "markdown",
   "metadata": {
    "pycharm": {
     "name": "#%% md\n"
    }
   },
   "source": [
    "# Pattern Matching\n",
    "\n",
    "Extracted from the OpenCV [documentation](https://docs.opencv.org/4.x/d4/dc6/tutorial_py_template_matching.html):\n",
    "\n",
    "OpenCV comes with a function *matchTemplate* for this purpose. It simply slides the template image over the input image and compares the template and patch of input image under the template image.\n",
    "\n",
    "### Exercise\n",
    "\n",
    "Given the following image and the corresponding template, you have to paint a green dot in the center of as many diamonds as you can but minimizing the number of False Positives (false detections).\n",
    "\n",
    "\n",
    "![image](input/cards_mini.png)\n",
    "\n",
    "**Conditions**: You can't manipulate any image outside the program.\n",
    "\n",
    "**Deadline**: Friday 7th, 19:00h\n",
    "\n",
    "\n"
   ]
  },
  {
   "cell_type": "code",
   "execution_count": null,
   "metadata": {
    "pycharm": {
     "name": "#%%\n"
    }
   },
   "outputs": [],
   "source": [
    "# Load images in the BGR space\n",
    "image = cv2.imread(\"input/cards_mini.png\")\n",
    "template = cv2.imread(\"input/diamond.png\")\n",
    "\n",
    "# TODO: put your code here\n",
    "\n",
    "plt.imshow(cv2.cvtColor(image, cv2.COLOR_RGB2BGR))\n",
    "plt.axis('off')\n",
    "plt.show()"
   ]
  },
  {
   "cell_type": "markdown",
   "metadata": {
    "pycharm": {
     "name": "#%% md\n"
    }
   },
   "source": [
    "### Extra\n",
    "\n",
    "I applied gaussian noise to the original image, If you apply the same solution to this new image, do you notice any change?"
   ]
  },
  {
   "cell_type": "code",
   "execution_count": null,
   "metadata": {
    "pycharm": {
     "name": "#%%\n"
    }
   },
   "outputs": [],
   "source": [
    "def noisy(image):\n",
    "    image = cv2.cvtColor(image, cv2.COLOR_BGR2HSV)\n",
    "    row,col,ch= image.shape\n",
    "    mean = 0\n",
    "    var = 1\n",
    "    sigma = var**0.5\n",
    "    gauss = np.random.normal(mean,sigma,(row,col,ch))\n",
    "    gauss = gauss.reshape(row,col,ch)\n",
    "    noisy = image + gauss\n",
    "    noisy = noisy.astype(np.uint8)\n",
    "    noisy = cv2.cvtColor(noisy, cv2.COLOR_HSV2BGR)\n",
    "\n",
    "    return noisy\n",
    "    \n",
    "image = cv2.imread(\"input/cards_mini.png\")\n",
    "template = cv2.imread(\"input/diamond.png\")\n",
    "noise = noisy(image)\n",
    "\n",
    "# TODO: put your code here\n",
    "\n",
    "plt.imshow(cv2.cvtColor(noise, cv2.COLOR_RGB2BGR))\n",
    "plt.axis('off')\n",
    "plt.show()\n",
    "\n",
    "\n"
   ]
  }
 ],
 "metadata": {
  "kernelspec": {
   "display_name": "Python 3 (ipykernel)",
   "language": "python",
   "name": "python3"
  },
  "language_info": {
   "codemirror_mode": {
    "name": "ipython",
    "version": 3
   },
   "file_extension": ".py",
   "mimetype": "text/x-python",
   "name": "python",
   "nbconvert_exporter": "python",
   "pygments_lexer": "ipython3",
   "version": "3.6.12"
  }
 },
 "nbformat": 4,
 "nbformat_minor": 1
}