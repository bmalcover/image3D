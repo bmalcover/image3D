{
 "cells": [
  {
   "cell_type": "markdown",
   "source": [
    "# Face substitution\n",
    "\n",
    "Face substitution the project that we are going to develop this week.\n",
    "\n",
    "### Exercise\n",
    "\n",
    "The main idea behind this little practice is to learn how we can apply the Viola Jones face detector and at the same time practice with simple image operations. It can be done following next two steps:\n",
    "\n",
    " - First, we are going to follow the next tutorial ([link](https://www.mygreatlearning.com/blog/viola-jones-algorithm/)) that shows how to apply the detector on a video stream. If you don't have a webcam, you can download a video. **It is important to understand the code you are copying.**\n",
    "\n",
    " - Second, we are going to overlap a superhero mask to the biggest face detected at each frame. In the folder `images` you can find some examples.\n",
    "\n",
    "<img src=\"images/wonder_woman.png\" alt=\"Wonder woman\" width=\"200\" /> <img src=\"images/wolverine.png\" alt=\"Wolverine\" width=\"170\"/>\n",
    "\n",
    "\n",
    "### Expected result\n",
    "\n",
    "The following image depicts the expected result of this project:\n",
    "\n",
    "<img src=\"images/result.png\" alt=\"result\" width=\"400\" />\n"
   ],
   "metadata": {
    "collapsed": false,
    "pycharm": {
     "name": "#%% md\n"
    }
   }
  }
 ],
 "metadata": {
  "kernelspec": {
   "display_name": "Python 3",
   "language": "python",
   "name": "python3"
  },
  "language_info": {
   "codemirror_mode": {
    "name": "ipython",
    "version": 2
   },
   "file_extension": ".py",
   "mimetype": "text/x-python",
   "name": "python",
   "nbconvert_exporter": "python",
   "pygments_lexer": "ipython2",
   "version": "2.7.6"
  }
 },
 "nbformat": 4,
 "nbformat_minor": 0
}